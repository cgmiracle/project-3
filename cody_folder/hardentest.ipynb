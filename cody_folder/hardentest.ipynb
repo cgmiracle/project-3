{
 "cells": [
  {
   "cell_type": "markdown",
   "metadata": {},
   "source": [
    "# A Look at James Hardens Early Carrer using Machine Learning"
   ]
  },
  {
   "cell_type": "markdown",
   "metadata": {},
   "source": [
    "First, I will load and clean the data to make it easy to fit in modles and make adjustments. "
   ]
  },
  {
   "cell_type": "code",
   "execution_count": 2,
   "metadata": {},
   "outputs": [],
   "source": [
    "#Import dependencies\n",
    "import pandas as pd\n",
    "import os\n",
    "import numpy as np"
   ]
  },
  {
   "cell_type": "code",
   "execution_count": 3,
   "metadata": {},
   "outputs": [],
   "source": [
    "#Load dataset\n",
    "dataset = pd.read_csv('harden.csv')"
   ]
  },
  {
   "cell_type": "code",
   "execution_count": 4,
   "metadata": {},
   "outputs": [
    {
     "data": {
      "text/html": [
       "<div>\n",
       "<style scoped>\n",
       "    .dataframe tbody tr th:only-of-type {\n",
       "        vertical-align: middle;\n",
       "    }\n",
       "\n",
       "    .dataframe tbody tr th {\n",
       "        vertical-align: top;\n",
       "    }\n",
       "\n",
       "    .dataframe thead th {\n",
       "        text-align: right;\n",
       "    }\n",
       "</style>\n",
       "<table border=\"1\" class=\"dataframe\">\n",
       "  <thead>\n",
       "    <tr style=\"text-align: right;\">\n",
       "      <th></th>\n",
       "      <th>Rk</th>\n",
       "      <th>G</th>\n",
       "      <th>Date</th>\n",
       "      <th>Age</th>\n",
       "      <th>Tm</th>\n",
       "      <th>Unnamed: 5</th>\n",
       "      <th>Opp</th>\n",
       "      <th>RESULT</th>\n",
       "      <th>GS</th>\n",
       "      <th>MP</th>\n",
       "      <th>...</th>\n",
       "      <th>DRB</th>\n",
       "      <th>TRB</th>\n",
       "      <th>AST</th>\n",
       "      <th>STL</th>\n",
       "      <th>BLK</th>\n",
       "      <th>TOV</th>\n",
       "      <th>PF</th>\n",
       "      <th>PTS</th>\n",
       "      <th>GmSc</th>\n",
       "      <th>+/-</th>\n",
       "    </tr>\n",
       "  </thead>\n",
       "  <tbody>\n",
       "    <tr>\n",
       "      <th>0</th>\n",
       "      <td>1</td>\n",
       "      <td>1</td>\n",
       "      <td>10/28/2009</td>\n",
       "      <td>20-063</td>\n",
       "      <td>OKC</td>\n",
       "      <td>NaN</td>\n",
       "      <td>SAC</td>\n",
       "      <td>W (+13)</td>\n",
       "      <td>0</td>\n",
       "      <td>12:59</td>\n",
       "      <td>...</td>\n",
       "      <td>2</td>\n",
       "      <td>2</td>\n",
       "      <td>0</td>\n",
       "      <td>0</td>\n",
       "      <td>0</td>\n",
       "      <td>0</td>\n",
       "      <td>3</td>\n",
       "      <td>5</td>\n",
       "      <td>3.8</td>\n",
       "      <td>-5</td>\n",
       "    </tr>\n",
       "    <tr>\n",
       "      <th>1</th>\n",
       "      <td>2</td>\n",
       "      <td>2</td>\n",
       "      <td>10/30/2009</td>\n",
       "      <td>20-065</td>\n",
       "      <td>OKC</td>\n",
       "      <td>@</td>\n",
       "      <td>DET</td>\n",
       "      <td>W (+8)</td>\n",
       "      <td>0</td>\n",
       "      <td>16:38</td>\n",
       "      <td>...</td>\n",
       "      <td>1</td>\n",
       "      <td>2</td>\n",
       "      <td>8</td>\n",
       "      <td>0</td>\n",
       "      <td>0</td>\n",
       "      <td>0</td>\n",
       "      <td>3</td>\n",
       "      <td>2</td>\n",
       "      <td>3.6</td>\n",
       "      <td>17</td>\n",
       "    </tr>\n",
       "    <tr>\n",
       "      <th>2</th>\n",
       "      <td>3</td>\n",
       "      <td>3</td>\n",
       "      <td>11/1/2009</td>\n",
       "      <td>20-067</td>\n",
       "      <td>OKC</td>\n",
       "      <td>NaN</td>\n",
       "      <td>POR</td>\n",
       "      <td>L (-9)</td>\n",
       "      <td>0</td>\n",
       "      <td>17:52</td>\n",
       "      <td>...</td>\n",
       "      <td>2</td>\n",
       "      <td>3</td>\n",
       "      <td>2</td>\n",
       "      <td>1</td>\n",
       "      <td>1</td>\n",
       "      <td>1</td>\n",
       "      <td>2</td>\n",
       "      <td>6</td>\n",
       "      <td>3.1</td>\n",
       "      <td>4</td>\n",
       "    </tr>\n",
       "    <tr>\n",
       "      <th>3</th>\n",
       "      <td>4</td>\n",
       "      <td>4</td>\n",
       "      <td>11/3/2009</td>\n",
       "      <td>20-069</td>\n",
       "      <td>OKC</td>\n",
       "      <td>NaN</td>\n",
       "      <td>LAL</td>\n",
       "      <td>L (-3)</td>\n",
       "      <td>0</td>\n",
       "      <td>17:04</td>\n",
       "      <td>...</td>\n",
       "      <td>1</td>\n",
       "      <td>1</td>\n",
       "      <td>3</td>\n",
       "      <td>1</td>\n",
       "      <td>0</td>\n",
       "      <td>0</td>\n",
       "      <td>2</td>\n",
       "      <td>9</td>\n",
       "      <td>6.5</td>\n",
       "      <td>16</td>\n",
       "    </tr>\n",
       "    <tr>\n",
       "      <th>4</th>\n",
       "      <td>5</td>\n",
       "      <td>5</td>\n",
       "      <td>11/6/2009</td>\n",
       "      <td>20-072</td>\n",
       "      <td>OKC</td>\n",
       "      <td>@</td>\n",
       "      <td>HOU</td>\n",
       "      <td>L (-11)</td>\n",
       "      <td>0</td>\n",
       "      <td>10:02</td>\n",
       "      <td>...</td>\n",
       "      <td>1</td>\n",
       "      <td>1</td>\n",
       "      <td>1</td>\n",
       "      <td>0</td>\n",
       "      <td>0</td>\n",
       "      <td>1</td>\n",
       "      <td>1</td>\n",
       "      <td>4</td>\n",
       "      <td>2.3</td>\n",
       "      <td>-8</td>\n",
       "    </tr>\n",
       "  </tbody>\n",
       "</table>\n",
       "<p>5 rows × 30 columns</p>\n",
       "</div>"
      ],
      "text/plain": [
       "   Rk  G        Date     Age   Tm Unnamed: 5  Opp   RESULT  GS     MP  ...  \\\n",
       "0   1  1  10/28/2009  20-063  OKC        NaN  SAC  W (+13)   0  12:59  ...   \n",
       "1   2  2  10/30/2009  20-065  OKC          @  DET   W (+8)   0  16:38  ...   \n",
       "2   3  3   11/1/2009  20-067  OKC        NaN  POR   L (-9)   0  17:52  ...   \n",
       "3   4  4   11/3/2009  20-069  OKC        NaN  LAL   L (-3)   0  17:04  ...   \n",
       "4   5  5   11/6/2009  20-072  OKC          @  HOU  L (-11)   0  10:02  ...   \n",
       "\n",
       "   DRB  TRB  AST  STL  BLK  TOV  PF  PTS  GmSc  +/-  \n",
       "0    2    2    0    0    0    0   3    5   3.8   -5  \n",
       "1    1    2    8    0    0    0   3    2   3.6   17  \n",
       "2    2    3    2    1    1    1   2    6   3.1    4  \n",
       "3    1    1    3    1    0    0   2    9   6.5   16  \n",
       "4    1    1    1    0    0    1   1    4   2.3   -8  \n",
       "\n",
       "[5 rows x 30 columns]"
      ]
     },
     "execution_count": 4,
     "metadata": {},
     "output_type": "execute_result"
    }
   ],
   "source": [
    "#Display of dataset\n",
    "dataset.head()"
   ]
  },
  {
   "cell_type": "code",
   "execution_count": 5,
   "metadata": {},
   "outputs": [],
   "source": [
    "#Import other dependencies \n",
    "from pandas import read_csv\n",
    "from pandas.plotting import scatter_matrix\n",
    "from matplotlib import pyplot\n",
    "from sklearn.model_selection import train_test_split\n",
    "from sklearn.model_selection import cross_val_score\n",
    "from sklearn.model_selection import StratifiedKFold\n",
    "from sklearn.metrics import classification_report\n",
    "from sklearn.metrics import confusion_matrix\n",
    "from sklearn.metrics import accuracy_score\n",
    "from sklearn.linear_model import LogisticRegression\n",
    "from sklearn.tree import DecisionTreeClassifier\n",
    "from sklearn.neighbors import KNeighborsClassifier\n",
    "from sklearn.discriminant_analysis import LinearDiscriminantAnalysis\n",
    "from sklearn.naive_bayes import GaussianNB\n",
    "from sklearn.svm import SVC"
   ]
  },
  {
   "cell_type": "code",
   "execution_count": 6,
   "metadata": {
    "scrolled": true
   },
   "outputs": [
    {
     "data": {
      "text/html": [
       "<div>\n",
       "<style scoped>\n",
       "    .dataframe tbody tr th:only-of-type {\n",
       "        vertical-align: middle;\n",
       "    }\n",
       "\n",
       "    .dataframe tbody tr th {\n",
       "        vertical-align: top;\n",
       "    }\n",
       "\n",
       "    .dataframe thead th {\n",
       "        text-align: right;\n",
       "    }\n",
       "</style>\n",
       "<table border=\"1\" class=\"dataframe\">\n",
       "  <thead>\n",
       "    <tr style=\"text-align: right;\">\n",
       "      <th></th>\n",
       "      <th>Rk</th>\n",
       "      <th>G</th>\n",
       "      <th>Date</th>\n",
       "      <th>Age</th>\n",
       "      <th>Tm</th>\n",
       "      <th>Unnamed: 5</th>\n",
       "      <th>Opp</th>\n",
       "      <th>RESULT</th>\n",
       "      <th>GS</th>\n",
       "      <th>MP</th>\n",
       "      <th>...</th>\n",
       "      <th>TRB</th>\n",
       "      <th>AST</th>\n",
       "      <th>STL</th>\n",
       "      <th>BLK</th>\n",
       "      <th>TOV</th>\n",
       "      <th>PF</th>\n",
       "      <th>PTS</th>\n",
       "      <th>GmSc</th>\n",
       "      <th>+/-</th>\n",
       "      <th>MINUTES</th>\n",
       "    </tr>\n",
       "  </thead>\n",
       "  <tbody>\n",
       "    <tr>\n",
       "      <th>0</th>\n",
       "      <td>1</td>\n",
       "      <td>1</td>\n",
       "      <td>10/28/2009</td>\n",
       "      <td>20-063</td>\n",
       "      <td>OKC</td>\n",
       "      <td>NaN</td>\n",
       "      <td>SAC</td>\n",
       "      <td>W (+13)</td>\n",
       "      <td>0</td>\n",
       "      <td>12:59</td>\n",
       "      <td>...</td>\n",
       "      <td>2</td>\n",
       "      <td>0</td>\n",
       "      <td>0</td>\n",
       "      <td>0</td>\n",
       "      <td>0</td>\n",
       "      <td>3</td>\n",
       "      <td>5</td>\n",
       "      <td>3.8</td>\n",
       "      <td>-5</td>\n",
       "      <td>12.983333</td>\n",
       "    </tr>\n",
       "    <tr>\n",
       "      <th>1</th>\n",
       "      <td>2</td>\n",
       "      <td>2</td>\n",
       "      <td>10/30/2009</td>\n",
       "      <td>20-065</td>\n",
       "      <td>OKC</td>\n",
       "      <td>@</td>\n",
       "      <td>DET</td>\n",
       "      <td>W (+8)</td>\n",
       "      <td>0</td>\n",
       "      <td>16:38</td>\n",
       "      <td>...</td>\n",
       "      <td>2</td>\n",
       "      <td>8</td>\n",
       "      <td>0</td>\n",
       "      <td>0</td>\n",
       "      <td>0</td>\n",
       "      <td>3</td>\n",
       "      <td>2</td>\n",
       "      <td>3.6</td>\n",
       "      <td>17</td>\n",
       "      <td>16.633333</td>\n",
       "    </tr>\n",
       "    <tr>\n",
       "      <th>2</th>\n",
       "      <td>3</td>\n",
       "      <td>3</td>\n",
       "      <td>11/1/2009</td>\n",
       "      <td>20-067</td>\n",
       "      <td>OKC</td>\n",
       "      <td>NaN</td>\n",
       "      <td>POR</td>\n",
       "      <td>L (-9)</td>\n",
       "      <td>0</td>\n",
       "      <td>17:52</td>\n",
       "      <td>...</td>\n",
       "      <td>3</td>\n",
       "      <td>2</td>\n",
       "      <td>1</td>\n",
       "      <td>1</td>\n",
       "      <td>1</td>\n",
       "      <td>2</td>\n",
       "      <td>6</td>\n",
       "      <td>3.1</td>\n",
       "      <td>4</td>\n",
       "      <td>17.866667</td>\n",
       "    </tr>\n",
       "    <tr>\n",
       "      <th>3</th>\n",
       "      <td>4</td>\n",
       "      <td>4</td>\n",
       "      <td>11/3/2009</td>\n",
       "      <td>20-069</td>\n",
       "      <td>OKC</td>\n",
       "      <td>NaN</td>\n",
       "      <td>LAL</td>\n",
       "      <td>L (-3)</td>\n",
       "      <td>0</td>\n",
       "      <td>17:04</td>\n",
       "      <td>...</td>\n",
       "      <td>1</td>\n",
       "      <td>3</td>\n",
       "      <td>1</td>\n",
       "      <td>0</td>\n",
       "      <td>0</td>\n",
       "      <td>2</td>\n",
       "      <td>9</td>\n",
       "      <td>6.5</td>\n",
       "      <td>16</td>\n",
       "      <td>17.066667</td>\n",
       "    </tr>\n",
       "    <tr>\n",
       "      <th>4</th>\n",
       "      <td>5</td>\n",
       "      <td>5</td>\n",
       "      <td>11/6/2009</td>\n",
       "      <td>20-072</td>\n",
       "      <td>OKC</td>\n",
       "      <td>@</td>\n",
       "      <td>HOU</td>\n",
       "      <td>L (-11)</td>\n",
       "      <td>0</td>\n",
       "      <td>10:02</td>\n",
       "      <td>...</td>\n",
       "      <td>1</td>\n",
       "      <td>1</td>\n",
       "      <td>0</td>\n",
       "      <td>0</td>\n",
       "      <td>1</td>\n",
       "      <td>1</td>\n",
       "      <td>4</td>\n",
       "      <td>2.3</td>\n",
       "      <td>-8</td>\n",
       "      <td>10.033333</td>\n",
       "    </tr>\n",
       "    <tr>\n",
       "      <th>5</th>\n",
       "      <td>6</td>\n",
       "      <td>6</td>\n",
       "      <td>11/8/2009</td>\n",
       "      <td>20-074</td>\n",
       "      <td>OKC</td>\n",
       "      <td>NaN</td>\n",
       "      <td>ORL</td>\n",
       "      <td>W (+28)</td>\n",
       "      <td>0</td>\n",
       "      <td>19:13</td>\n",
       "      <td>...</td>\n",
       "      <td>4</td>\n",
       "      <td>5</td>\n",
       "      <td>2</td>\n",
       "      <td>0</td>\n",
       "      <td>0</td>\n",
       "      <td>3</td>\n",
       "      <td>5</td>\n",
       "      <td>7.8</td>\n",
       "      <td>0</td>\n",
       "      <td>19.216667</td>\n",
       "    </tr>\n",
       "    <tr>\n",
       "      <th>6</th>\n",
       "      <td>7</td>\n",
       "      <td>7</td>\n",
       "      <td>11/10/2009</td>\n",
       "      <td>20-076</td>\n",
       "      <td>OKC</td>\n",
       "      <td>@</td>\n",
       "      <td>SAC</td>\n",
       "      <td>L (-3)</td>\n",
       "      <td>0</td>\n",
       "      <td>19:24</td>\n",
       "      <td>...</td>\n",
       "      <td>4</td>\n",
       "      <td>1</td>\n",
       "      <td>1</td>\n",
       "      <td>1</td>\n",
       "      <td>1</td>\n",
       "      <td>3</td>\n",
       "      <td>9</td>\n",
       "      <td>6.7</td>\n",
       "      <td>1</td>\n",
       "      <td>19.400000</td>\n",
       "    </tr>\n",
       "    <tr>\n",
       "      <th>7</th>\n",
       "      <td>8</td>\n",
       "      <td>8</td>\n",
       "      <td>11/11/2009</td>\n",
       "      <td>20-077</td>\n",
       "      <td>OKC</td>\n",
       "      <td>@</td>\n",
       "      <td>LAC</td>\n",
       "      <td>W (+4)</td>\n",
       "      <td>0</td>\n",
       "      <td>23:54</td>\n",
       "      <td>...</td>\n",
       "      <td>5</td>\n",
       "      <td>8</td>\n",
       "      <td>1</td>\n",
       "      <td>1</td>\n",
       "      <td>2</td>\n",
       "      <td>1</td>\n",
       "      <td>7</td>\n",
       "      <td>8.6</td>\n",
       "      <td>9</td>\n",
       "      <td>23.900000</td>\n",
       "    </tr>\n",
       "    <tr>\n",
       "      <th>8</th>\n",
       "      <td>9</td>\n",
       "      <td>9</td>\n",
       "      <td>11/14/2009</td>\n",
       "      <td>20-080</td>\n",
       "      <td>OKC</td>\n",
       "      <td>@</td>\n",
       "      <td>SAS</td>\n",
       "      <td>W (+3)</td>\n",
       "      <td>0</td>\n",
       "      <td>19:57</td>\n",
       "      <td>...</td>\n",
       "      <td>2</td>\n",
       "      <td>1</td>\n",
       "      <td>1</td>\n",
       "      <td>1</td>\n",
       "      <td>2</td>\n",
       "      <td>4</td>\n",
       "      <td>8</td>\n",
       "      <td>4.4</td>\n",
       "      <td>-3</td>\n",
       "      <td>19.950000</td>\n",
       "    </tr>\n",
       "    <tr>\n",
       "      <th>9</th>\n",
       "      <td>10</td>\n",
       "      <td>10</td>\n",
       "      <td>11/15/2009</td>\n",
       "      <td>20-081</td>\n",
       "      <td>OKC</td>\n",
       "      <td>NaN</td>\n",
       "      <td>LAC</td>\n",
       "      <td>L (-8)</td>\n",
       "      <td>0</td>\n",
       "      <td>17:38</td>\n",
       "      <td>...</td>\n",
       "      <td>3</td>\n",
       "      <td>2</td>\n",
       "      <td>1</td>\n",
       "      <td>0</td>\n",
       "      <td>2</td>\n",
       "      <td>1</td>\n",
       "      <td>4</td>\n",
       "      <td>-0.3</td>\n",
       "      <td>-9</td>\n",
       "      <td>17.633333</td>\n",
       "    </tr>\n",
       "  </tbody>\n",
       "</table>\n",
       "<p>10 rows × 31 columns</p>\n",
       "</div>"
      ],
      "text/plain": [
       "   Rk   G        Date     Age   Tm Unnamed: 5  Opp   RESULT  GS     MP  ...  \\\n",
       "0   1   1  10/28/2009  20-063  OKC        NaN  SAC  W (+13)   0  12:59  ...   \n",
       "1   2   2  10/30/2009  20-065  OKC          @  DET   W (+8)   0  16:38  ...   \n",
       "2   3   3   11/1/2009  20-067  OKC        NaN  POR   L (-9)   0  17:52  ...   \n",
       "3   4   4   11/3/2009  20-069  OKC        NaN  LAL   L (-3)   0  17:04  ...   \n",
       "4   5   5   11/6/2009  20-072  OKC          @  HOU  L (-11)   0  10:02  ...   \n",
       "5   6   6   11/8/2009  20-074  OKC        NaN  ORL  W (+28)   0  19:13  ...   \n",
       "6   7   7  11/10/2009  20-076  OKC          @  SAC   L (-3)   0  19:24  ...   \n",
       "7   8   8  11/11/2009  20-077  OKC          @  LAC   W (+4)   0  23:54  ...   \n",
       "8   9   9  11/14/2009  20-080  OKC          @  SAS   W (+3)   0  19:57  ...   \n",
       "9  10  10  11/15/2009  20-081  OKC        NaN  LAC   L (-8)   0  17:38  ...   \n",
       "\n",
       "   TRB  AST  STL  BLK  TOV  PF  PTS  GmSc  +/-    MINUTES  \n",
       "0    2    0    0    0    0   3    5   3.8   -5  12.983333  \n",
       "1    2    8    0    0    0   3    2   3.6   17  16.633333  \n",
       "2    3    2    1    1    1   2    6   3.1    4  17.866667  \n",
       "3    1    3    1    0    0   2    9   6.5   16  17.066667  \n",
       "4    1    1    0    0    1   1    4   2.3   -8  10.033333  \n",
       "5    4    5    2    0    0   3    5   7.8    0  19.216667  \n",
       "6    4    1    1    1    1   3    9   6.7    1  19.400000  \n",
       "7    5    8    1    1    2   1    7   8.6    9  23.900000  \n",
       "8    2    1    1    1    2   4    8   4.4   -3  19.950000  \n",
       "9    3    2    1    0    2   1    4  -0.3   -9  17.633333  \n",
       "\n",
       "[10 rows x 31 columns]"
      ]
     },
     "execution_count": 6,
     "metadata": {},
     "output_type": "execute_result"
    }
   ],
   "source": [
    "#Change the MP column to minutes and change its data type from object to float\n",
    "time = dataset['MP'].str.split(':', expand=True).astype(float)\n",
    "time_ = time[1] / 60\n",
    "dataset['MINUTES'] = time[0] + time_\n",
    "\n",
    "dataset.head(10)"
   ]
  },
  {
   "cell_type": "code",
   "execution_count": 7,
   "metadata": {},
   "outputs": [],
   "source": [
    "#Changes the RESULT column removing the margin of victory to allow easier creation of classses \n",
    "df2 = dataset['RESULT']\n",
    "p = df2.to_string()\n",
    "l = p.split()\n",
    "j = []\n",
    "for k in range(1, len(l), 3):\n",
    "    if 'W' or \"L\" in l[k]:\n",
    "        if l[k] == \"W\": j.append(\"W\");\n",
    "        elif l[k] == \"L\": j.append(\"L\")"
   ]
  },
  {
   "cell_type": "code",
   "execution_count": 8,
   "metadata": {},
   "outputs": [
    {
     "data": {
      "text/html": [
       "<div>\n",
       "<style scoped>\n",
       "    .dataframe tbody tr th:only-of-type {\n",
       "        vertical-align: middle;\n",
       "    }\n",
       "\n",
       "    .dataframe tbody tr th {\n",
       "        vertical-align: top;\n",
       "    }\n",
       "\n",
       "    .dataframe thead th {\n",
       "        text-align: right;\n",
       "    }\n",
       "</style>\n",
       "<table border=\"1\" class=\"dataframe\">\n",
       "  <thead>\n",
       "    <tr style=\"text-align: right;\">\n",
       "      <th></th>\n",
       "      <th>Rk</th>\n",
       "      <th>G</th>\n",
       "      <th>Date</th>\n",
       "      <th>Age</th>\n",
       "      <th>Tm</th>\n",
       "      <th>Unnamed: 5</th>\n",
       "      <th>Opp</th>\n",
       "      <th>RESULT</th>\n",
       "      <th>GS</th>\n",
       "      <th>MP</th>\n",
       "      <th>...</th>\n",
       "      <th>AST</th>\n",
       "      <th>STL</th>\n",
       "      <th>BLK</th>\n",
       "      <th>TOV</th>\n",
       "      <th>PF</th>\n",
       "      <th>PTS</th>\n",
       "      <th>GmSc</th>\n",
       "      <th>+/-</th>\n",
       "      <th>MINUTES</th>\n",
       "      <th>RESULTS</th>\n",
       "    </tr>\n",
       "  </thead>\n",
       "  <tbody>\n",
       "    <tr>\n",
       "      <th>0</th>\n",
       "      <td>1</td>\n",
       "      <td>1</td>\n",
       "      <td>10/28/2009</td>\n",
       "      <td>20-063</td>\n",
       "      <td>OKC</td>\n",
       "      <td>NaN</td>\n",
       "      <td>SAC</td>\n",
       "      <td>W (+13)</td>\n",
       "      <td>0</td>\n",
       "      <td>12:59</td>\n",
       "      <td>...</td>\n",
       "      <td>0</td>\n",
       "      <td>0</td>\n",
       "      <td>0</td>\n",
       "      <td>0</td>\n",
       "      <td>3</td>\n",
       "      <td>5</td>\n",
       "      <td>3.8</td>\n",
       "      <td>-5</td>\n",
       "      <td>12.983333</td>\n",
       "      <td>W</td>\n",
       "    </tr>\n",
       "    <tr>\n",
       "      <th>1</th>\n",
       "      <td>2</td>\n",
       "      <td>2</td>\n",
       "      <td>10/30/2009</td>\n",
       "      <td>20-065</td>\n",
       "      <td>OKC</td>\n",
       "      <td>@</td>\n",
       "      <td>DET</td>\n",
       "      <td>W (+8)</td>\n",
       "      <td>0</td>\n",
       "      <td>16:38</td>\n",
       "      <td>...</td>\n",
       "      <td>8</td>\n",
       "      <td>0</td>\n",
       "      <td>0</td>\n",
       "      <td>0</td>\n",
       "      <td>3</td>\n",
       "      <td>2</td>\n",
       "      <td>3.6</td>\n",
       "      <td>17</td>\n",
       "      <td>16.633333</td>\n",
       "      <td>W</td>\n",
       "    </tr>\n",
       "    <tr>\n",
       "      <th>2</th>\n",
       "      <td>3</td>\n",
       "      <td>3</td>\n",
       "      <td>11/1/2009</td>\n",
       "      <td>20-067</td>\n",
       "      <td>OKC</td>\n",
       "      <td>NaN</td>\n",
       "      <td>POR</td>\n",
       "      <td>L (-9)</td>\n",
       "      <td>0</td>\n",
       "      <td>17:52</td>\n",
       "      <td>...</td>\n",
       "      <td>2</td>\n",
       "      <td>1</td>\n",
       "      <td>1</td>\n",
       "      <td>1</td>\n",
       "      <td>2</td>\n",
       "      <td>6</td>\n",
       "      <td>3.1</td>\n",
       "      <td>4</td>\n",
       "      <td>17.866667</td>\n",
       "      <td>L</td>\n",
       "    </tr>\n",
       "    <tr>\n",
       "      <th>3</th>\n",
       "      <td>4</td>\n",
       "      <td>4</td>\n",
       "      <td>11/3/2009</td>\n",
       "      <td>20-069</td>\n",
       "      <td>OKC</td>\n",
       "      <td>NaN</td>\n",
       "      <td>LAL</td>\n",
       "      <td>L (-3)</td>\n",
       "      <td>0</td>\n",
       "      <td>17:04</td>\n",
       "      <td>...</td>\n",
       "      <td>3</td>\n",
       "      <td>1</td>\n",
       "      <td>0</td>\n",
       "      <td>0</td>\n",
       "      <td>2</td>\n",
       "      <td>9</td>\n",
       "      <td>6.5</td>\n",
       "      <td>16</td>\n",
       "      <td>17.066667</td>\n",
       "      <td>L</td>\n",
       "    </tr>\n",
       "    <tr>\n",
       "      <th>4</th>\n",
       "      <td>5</td>\n",
       "      <td>5</td>\n",
       "      <td>11/6/2009</td>\n",
       "      <td>20-072</td>\n",
       "      <td>OKC</td>\n",
       "      <td>@</td>\n",
       "      <td>HOU</td>\n",
       "      <td>L (-11)</td>\n",
       "      <td>0</td>\n",
       "      <td>10:02</td>\n",
       "      <td>...</td>\n",
       "      <td>1</td>\n",
       "      <td>0</td>\n",
       "      <td>0</td>\n",
       "      <td>1</td>\n",
       "      <td>1</td>\n",
       "      <td>4</td>\n",
       "      <td>2.3</td>\n",
       "      <td>-8</td>\n",
       "      <td>10.033333</td>\n",
       "      <td>L</td>\n",
       "    </tr>\n",
       "  </tbody>\n",
       "</table>\n",
       "<p>5 rows × 32 columns</p>\n",
       "</div>"
      ],
      "text/plain": [
       "   Rk  G        Date     Age   Tm Unnamed: 5  Opp   RESULT  GS     MP  ...  \\\n",
       "0   1  1  10/28/2009  20-063  OKC        NaN  SAC  W (+13)   0  12:59  ...   \n",
       "1   2  2  10/30/2009  20-065  OKC          @  DET   W (+8)   0  16:38  ...   \n",
       "2   3  3   11/1/2009  20-067  OKC        NaN  POR   L (-9)   0  17:52  ...   \n",
       "3   4  4   11/3/2009  20-069  OKC        NaN  LAL   L (-3)   0  17:04  ...   \n",
       "4   5  5   11/6/2009  20-072  OKC          @  HOU  L (-11)   0  10:02  ...   \n",
       "\n",
       "   AST  STL  BLK  TOV  PF  PTS  GmSc  +/-    MINUTES  RESULTS  \n",
       "0    0    0    0    0   3    5   3.8   -5  12.983333        W  \n",
       "1    8    0    0    0   3    2   3.6   17  16.633333        W  \n",
       "2    2    1    1    1   2    6   3.1    4  17.866667        L  \n",
       "3    3    1    0    0   2    9   6.5   16  17.066667        L  \n",
       "4    1    0    0    1   1    4   2.3   -8  10.033333        L  \n",
       "\n",
       "[5 rows x 32 columns]"
      ]
     },
     "execution_count": 8,
     "metadata": {},
     "output_type": "execute_result"
    }
   ],
   "source": [
    "#Add the RESULTS column to the dataset to reflect previous changes \n",
    "dataset[\"RESULTS\"] = j\n",
    "dataset.head()"
   ]
  },
  {
   "cell_type": "markdown",
   "metadata": {},
   "source": [
    "The next steps will include reviwing the data to make sure it will work with the models, and creating classes based on the resultof the game so the models have something to predict. "
   ]
  },
  {
   "cell_type": "code",
   "execution_count": 9,
   "metadata": {},
   "outputs": [
    {
     "data": {
      "text/html": [
       "<div>\n",
       "<style scoped>\n",
       "    .dataframe tbody tr th:only-of-type {\n",
       "        vertical-align: middle;\n",
       "    }\n",
       "\n",
       "    .dataframe tbody tr th {\n",
       "        vertical-align: top;\n",
       "    }\n",
       "\n",
       "    .dataframe thead th {\n",
       "        text-align: right;\n",
       "    }\n",
       "</style>\n",
       "<table border=\"1\" class=\"dataframe\">\n",
       "  <thead>\n",
       "    <tr style=\"text-align: right;\">\n",
       "      <th></th>\n",
       "      <th>MINUTES</th>\n",
       "      <th>PTS</th>\n",
       "      <th>GmSc</th>\n",
       "      <th>RESULTS</th>\n",
       "    </tr>\n",
       "  </thead>\n",
       "  <tbody>\n",
       "    <tr>\n",
       "      <th>0</th>\n",
       "      <td>12.983333</td>\n",
       "      <td>5</td>\n",
       "      <td>3.8</td>\n",
       "      <td>W</td>\n",
       "    </tr>\n",
       "    <tr>\n",
       "      <th>1</th>\n",
       "      <td>16.633333</td>\n",
       "      <td>2</td>\n",
       "      <td>3.6</td>\n",
       "      <td>W</td>\n",
       "    </tr>\n",
       "    <tr>\n",
       "      <th>2</th>\n",
       "      <td>17.866667</td>\n",
       "      <td>6</td>\n",
       "      <td>3.1</td>\n",
       "      <td>L</td>\n",
       "    </tr>\n",
       "    <tr>\n",
       "      <th>3</th>\n",
       "      <td>17.066667</td>\n",
       "      <td>9</td>\n",
       "      <td>6.5</td>\n",
       "      <td>L</td>\n",
       "    </tr>\n",
       "    <tr>\n",
       "      <th>4</th>\n",
       "      <td>10.033333</td>\n",
       "      <td>4</td>\n",
       "      <td>2.3</td>\n",
       "      <td>L</td>\n",
       "    </tr>\n",
       "  </tbody>\n",
       "</table>\n",
       "</div>"
      ],
      "text/plain": [
       "     MINUTES  PTS  GmSc RESULTS\n",
       "0  12.983333    5   3.8       W\n",
       "1  16.633333    2   3.6       W\n",
       "2  17.866667    6   3.1       L\n",
       "3  17.066667    9   6.5       L\n",
       "4  10.033333    4   2.3       L"
      ]
     },
     "execution_count": 9,
     "metadata": {},
     "output_type": "execute_result"
    }
   ],
   "source": [
    "#Filter dataset so that it only includes desired stats\n",
    "dataset = dataset.filter([\"MINUTES\", 'PTS', \"GmSc\", 'RESULTS'])\n",
    "dataset.head()"
   ]
  },
  {
   "cell_type": "code",
   "execution_count": 10,
   "metadata": {},
   "outputs": [
    {
     "data": {
      "text/plain": [
       "MINUTES    float64\n",
       "PTS          int64\n",
       "GmSc       float64\n",
       "RESULTS     object\n",
       "dtype: object"
      ]
     },
     "execution_count": 10,
     "metadata": {},
     "output_type": "execute_result"
    }
   ],
   "source": [
    "#Review the datasets data types\n",
    "dataset.dtypes"
   ]
  },
  {
   "cell_type": "code",
   "execution_count": 11,
   "metadata": {},
   "outputs": [
    {
     "name": "stdout",
     "output_type": "stream",
     "text": [
      "(452, 4)\n"
     ]
    }
   ],
   "source": [
    "#Shape of Dataset\n",
    "print(dataset.shape)"
   ]
  },
  {
   "cell_type": "code",
   "execution_count": 12,
   "metadata": {},
   "outputs": [
    {
     "name": "stdout",
     "output_type": "stream",
     "text": [
      "          MINUTES         PTS        GmSc\n",
      "count  452.000000  452.000000  452.000000\n",
      "mean    32.336136   19.659292   15.094248\n",
      "std      7.872553   10.196466    9.736714\n",
      "min     10.033333    1.000000   -3.300000\n",
      "25%     26.908333   12.000000    7.400000\n",
      "50%     33.016667   18.000000   13.650000\n",
      "75%     38.754167   27.000000   21.650000\n",
      "max     47.933333   51.000000   44.500000\n"
     ]
    }
   ],
   "source": [
    "#Desribe the datsaet \n",
    "print(dataset.describe())"
   ]
  },
  {
   "cell_type": "code",
   "execution_count": 13,
   "metadata": {},
   "outputs": [
    {
     "name": "stdout",
     "output_type": "stream",
     "text": [
      "RESULTS\n",
      "L    159\n",
      "W    293\n",
      "dtype: int64\n"
     ]
    }
   ],
   "source": [
    "#class distribution\n",
    "print(dataset.groupby('RESULTS').size())"
   ]
  },
  {
   "cell_type": "markdown",
   "metadata": {},
   "source": [
    "Now we will review the data with a few diffrent plots to see if something meaningful can come of the data as it is. "
   ]
  },
  {
   "cell_type": "code",
   "execution_count": 31,
   "metadata": {},
   "outputs": [
    {
     "name": "stderr",
     "output_type": "stream",
     "text": [
      "C:\\Users\\Cody\\anaconda3\\lib\\site-packages\\pandas\\plotting\\_matplotlib\\tools.py:307: MatplotlibDeprecationWarning: \n",
      "The rowNum attribute was deprecated in Matplotlib 3.2 and will be removed two minor releases later. Use ax.get_subplotspec().rowspan.start instead.\n",
      "  layout[ax.rowNum, ax.colNum] = ax.get_visible()\n",
      "C:\\Users\\Cody\\anaconda3\\lib\\site-packages\\pandas\\plotting\\_matplotlib\\tools.py:307: MatplotlibDeprecationWarning: \n",
      "The colNum attribute was deprecated in Matplotlib 3.2 and will be removed two minor releases later. Use ax.get_subplotspec().colspan.start instead.\n",
      "  layout[ax.rowNum, ax.colNum] = ax.get_visible()\n",
      "C:\\Users\\Cody\\anaconda3\\lib\\site-packages\\pandas\\plotting\\_matplotlib\\tools.py:313: MatplotlibDeprecationWarning: \n",
      "The rowNum attribute was deprecated in Matplotlib 3.2 and will be removed two minor releases later. Use ax.get_subplotspec().rowspan.start instead.\n",
      "  if not layout[ax.rowNum + 1, ax.colNum]:\n",
      "C:\\Users\\Cody\\anaconda3\\lib\\site-packages\\pandas\\plotting\\_matplotlib\\tools.py:313: MatplotlibDeprecationWarning: \n",
      "The colNum attribute was deprecated in Matplotlib 3.2 and will be removed two minor releases later. Use ax.get_subplotspec().colspan.start instead.\n",
      "  if not layout[ax.rowNum + 1, ax.colNum]:\n"
     ]
    },
    {
     "data": {
      "image/png": "[encoded data removed]",
      "text/plain": [
       "<Figure size 432x288 with 9 Axes>"
      ]
     },
     "metadata": {
      "needs_background": "light"
     },
     "output_type": "display_data"
    },
    {
     "data": {
      "text/plain": [
       "<Figure size 432x288 with 0 Axes>"
      ]
     },
     "metadata": {},
     "output_type": "display_data"
    }
   ],
   "source": [
    "#Box and whisker plots\n",
    "dataset.plot(kind='box', subplots=True, layout=(3,3), sharex=False, sharey=False)\n",
    "pyplot.show()\n",
    "pyplot.savefig('boxwhisker.png')"
   ]
  },
  {
   "cell_type": "code",
   "execution_count": 33,
   "metadata": {},
   "outputs": [
    {
     "data": {
      "image/png": "[encoded data removed]",
      "text/plain": [
       "<Figure size 432x288 with 4 Axes>"
      ]
     },
     "metadata": {
      "needs_background": "light"
     },
     "output_type": "display_data"
    },
    {
     "data": {
      "text/plain": [
       "<Figure size 432x288 with 0 Axes>"
      ]
     },
     "metadata": {},
     "output_type": "display_data"
    }
   ],
   "source": [
    "#histograms\n",
    "dataset.hist()\n",
    "pyplot.show()\n",
    "pyplot.savefig('histogram.png')"
   ]
  },
  {
   "cell_type": "code",
   "execution_count": 32,
   "metadata": {},
   "outputs": [
    {
     "data": {
      "text/plain": [
       "'C:\\\\Users\\\\Cody\\\\UCBE\\\\project-3'"
      ]
     },
     "execution_count": 32,
     "metadata": {},
     "output_type": "execute_result"
    }
   ],
   "source": [
    "pwd"
   ]
  },
  {
   "cell_type": "code",
   "execution_count": 34,
   "metadata": {},
   "outputs": [
    {
     "data": {
      "image/png": "[encoded data removed]",
      "text/plain": [
       "<Figure size 432x288 with 9 Axes>"
      ]
     },
     "metadata": {
      "needs_background": "light"
     },
     "output_type": "display_data"
    },
    {
     "data": {
      "text/plain": [
       "<Figure size 432x288 with 0 Axes>"
      ]
     },
     "metadata": {},
     "output_type": "display_data"
    }
   ],
   "source": [
    "#scatter plot matrix\n",
    "scatter_matrix(dataset)\n",
    "pyplot.show()\n",
    "pyplot.savefig('scattermatrix.png')"
   ]
  },
  {
   "cell_type": "markdown",
   "metadata": {},
   "source": [
    "Now I will evalute diffrent machine learning models and evaluate which works best with the data. "
   ]
  },
  {
   "cell_type": "code",
   "execution_count": 20,
   "metadata": {},
   "outputs": [],
   "source": [
    "#split-out validation\n",
    "array = dataset.values\n",
    "X = array[:,0:3]\n",
    "y =array[:,3]\n",
    "X_train, X_validation, Y_train, Y_validation = train_test_split(X, y, test_size=0.20, random_state=1)\n"
   ]
  },
  {
   "cell_type": "code",
   "execution_count": 28,
   "metadata": {},
   "outputs": [
    {
     "name": "stdout",
     "output_type": "stream",
     "text": [
      "LR: 0.667542 (0.040592)\n",
      "LDA: 0.662062 (0.013725)\n",
      "KNN: 0.581811 (0.026667)\n",
      "CART: 0.598478 (0.045874)\n",
      "NB: 0.625951 (0.031343)\n",
      "SVM: 0.612177 (0.015363)\n"
     ]
    }
   ],
   "source": [
    "# Spot Check Algorithms\n",
    "models = []\n",
    "models.append(('LR', LogisticRegression(solver='liblinear', multi_class='ovr')))\n",
    "models.append(('LDA', LinearDiscriminantAnalysis()))\n",
    "models.append(('KNN', KNeighborsClassifier()))\n",
    "models.append(('CART', DecisionTreeClassifier()))\n",
    "models.append(('NB', GaussianNB()))\n",
    "models.append(('SVM', SVC(gamma='auto')))\n",
    "\n",
    "#evalute the models\n",
    "results = []\n",
    "names = []\n",
    "for name, model in models: \n",
    "    kfold = StratifiedKFold(n_splits=5, random_state=1, shuffle=True)\n",
    "    cv_results = cross_val_score(model, X_train, Y_train, cv=kfold, scoring='accuracy')\n",
    "    results.append(cv_results)\n",
    "    names.append(name)\n",
    "    print('%s: %f (%f)' % (name, cv_results.mean(), cv_results.std()))"
   ]
  },
  {
   "cell_type": "code",
   "execution_count": 25,
   "metadata": {},
   "outputs": [
    {
     "data": {
      "image/png": "[encoded data removed]",
      "text/plain": [
       "<Figure size 432x288 with 1 Axes>"
      ]
     },
     "metadata": {
      "needs_background": "light"
     },
     "output_type": "display_data"
    }
   ],
   "source": [
    "pyplot.boxplot(results, labels=names)\n",
    "pyplot.title('Algorithm Comparison')\n",
    "pyplot.show()"
   ]
  },
  {
   "cell_type": "markdown",
   "metadata": {},
   "source": [
    "Finally, I will run the chosen model on the data and print the results. "
   ]
  },
  {
   "cell_type": "code",
   "execution_count": 26,
   "metadata": {},
   "outputs": [],
   "source": [
    "#Predicitions\n",
    "model = LinearDiscriminantAnalysis()\n",
    "model.fit(X_train, Y_train)\n",
    "predictions = model.predict(X_validation)"
   ]
  },
  {
   "cell_type": "code",
   "execution_count": 37,
   "metadata": {},
   "outputs": [
    {
     "name": "stdout",
     "output_type": "stream",
     "text": [
      "0.7252747252747253\n",
      "[[12 18]\n",
      " [ 7 54]]\n",
      "              precision    recall  f1-score   support\n",
      "\n",
      "           L       0.63      0.40      0.49        30\n",
      "           W       0.75      0.89      0.81        61\n",
      "\n",
      "    accuracy                           0.73        91\n",
      "   macro avg       0.69      0.64      0.65        91\n",
      "weighted avg       0.71      0.73      0.71        91\n",
      "\n"
     ]
    }
   ],
   "source": [
    "print(accuracy_score(Y_validation, predictions)),\n",
    "print(confusion_matrix(Y_validation, predictions)),\n",
    "print(classification_report(Y_validation, predictions))"
   ]
  },
  {
   "cell_type": "markdown",
   "metadata": {},
   "source": [
    "# In conclusion, the model was able to predict the outcome of the game to an accuracy of 73% based on Hardens minutes, points, and game score. I hope to improve on this model in the future to increase the accuracy and give more functionality. "
   ]
  }
 ],
 "metadata": {
  "kernelspec": {
   "display_name": "Python 3",
   "language": "python",
   "name": "python3"
  },
  "language_info": {
   "codemirror_mode": {
    "name": "ipython",
    "version": 3
   },
   "file_extension": ".py",
   "mimetype": "text/x-python",
   "name": "python",
   "nbconvert_exporter": "python",
   "pygments_lexer": "ipython3",
   "version": "3.8.5"
  }
 },
 "nbformat": 4,
 "nbformat_minor": 4
}
